{
 "cells": [
  {
   "cell_type": "code",
   "execution_count": 6,
   "metadata": {},
   "outputs": [],
   "source": [
    "import pandas as pd\n",
    "import numpy as np\n",
    "from scipy.spatial import distance\n",
    "import matplotlib.pyplot as plt\n",
    "import matplotlib.colors as colors\n",
    "import warnings\n"
   ]
  },
  {
   "cell_type": "code",
   "execution_count": 7,
   "metadata": {},
   "outputs": [],
   "source": [
    "def init(roots,centers, k):\n",
    "    dist = {root: (((root[0] - centers[0][0]) ** 2 + (root[1] - centers[0][1]) ** 2) ** (1 / 2)) for root in roots}\n",
    "    for key, d in dist.items():\n",
    "        if d == max(dist.values()):\n",
    "            centers.append(key)\n",
    "    while len(centers)<=k:\n",
    "        for root in roots:\n",
    "            dist[root] = min(dist[root],(((root[0]-centers[-1][0])**2 + (root[1]-centers[-1][1])**2)**(1/2)))\n",
    "        for key,d in dist.items():\n",
    "            if d==max(dist.values()) and (key not in centers):\n",
    "                centers.append(key)\n",
    "            if len(centers)==k:\n",
    "                return centers\n"
   ]
  },
  {
   "cell_type": "code",
   "execution_count": 8,
   "metadata": {},
   "outputs": [],
   "source": [
    "def k_means(centers,roots):\n",
    "    all = {i: [] for i in centers}\n",
    "    flag = False\n",
    "    while not(flag):\n",
    "        all = {i: [] for i in centers}\n",
    "        distance = {i: 0 for i in centers}\n",
    "        allN = {}\n",
    "        for root in roots:\n",
    "            for center in centers:\n",
    "                if center!=root:\n",
    "                    distance[center] = ((root[0] - center[0]) ** 2 + (root[1] - center[1]) ** 2) ** (1 / 2)\n",
    "                else:\n",
    "                    distance[center] = 0\n",
    "            flag2 = False\n",
    "            for key, d in distance.items():\n",
    "                if d == min(distance.values()) and not(flag2):\n",
    "\n",
    "                    all[key].append(root)\n",
    "                    flag2 = True\n",
    "        for key,val in all.items():\n",
    "            x = sum([i\n",
    "                     [0] for i in val])/len(val)\n",
    "            y = sum([i[1] for i in val])/len(val)\n",
    "            allN[(x,y)]=[]\n",
    "        result = [x for x in centers if x in [val for val in allN.keys()]]\n",
    "        flag = (len(result)==len(centers))\n",
    "        centers = [val for val in allN.keys()]\n",
    "    return all"
   ]
  },
  {
   "cell_type": "code",
   "execution_count": 9,
   "metadata": {},
   "outputs": [],
   "source": [
    "centers = [(6, 8)]\n",
    "roots = [(2,2), (12,6), (4,10), (9,3), (3,4), (5,2), (10,5), (11,4), (12,3), (4,8), (6,8), (7,10)]\n",
    "dist = {i:0 for i in roots}"
   ]
  },
  {
   "cell_type": "code",
   "execution_count": 10,
   "metadata": {},
   "outputs": [
    {
     "name": "stdout",
     "output_type": "stream",
     "text": [
      "центры -  [(6, 8), (12, 3), (2, 2), (12, 6)]\n",
      "итоговые центры-   (5.25, 9.0)   значения-  [(4, 10), (4, 8), (6, 8), (7, 10)]\n",
      "итоговые центры-   (10.666666666666666, 3.3333333333333335)   значения-  [(9, 3), (11, 4), (12, 3)]\n",
      "итоговые центры-   (3.3333333333333335, 2.6666666666666665)   значения-  [(2, 2), (3, 4), (5, 2)]\n",
      "итоговые центры-   (11.0, 5.5)   значения-  [(12, 6), (10, 5)]\n"
     ]
    }
   ],
   "source": [
    "a = init(roots,centers,4)\n",
    "print(\"центры - \", a)\n",
    "for key,val in k_means(a,roots).items():\n",
    "    print(\"итоговые центры-  \", key,\"  значения- \", val )"
   ]
  },
  {
   "cell_type": "code",
   "execution_count": null,
   "metadata": {},
   "outputs": [],
   "source": []
  }
 ],
 "metadata": {
  "kernelspec": {
   "display_name": "Python 3",
   "language": "python",
   "name": "python3"
  },
  "language_info": {
   "codemirror_mode": {
    "name": "ipython",
    "version": 3
   },
   "file_extension": ".py",
   "mimetype": "text/x-python",
   "name": "python",
   "nbconvert_exporter": "python",
   "pygments_lexer": "ipython3",
   "version": "3.7.4"
  }
 },
 "nbformat": 4,
 "nbformat_minor": 2
}
